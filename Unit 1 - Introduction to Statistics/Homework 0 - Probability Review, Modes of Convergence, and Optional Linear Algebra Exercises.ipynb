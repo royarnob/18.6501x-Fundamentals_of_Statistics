{
 "cells": [
  {
   "cell_type": "markdown",
   "id": "831eba40",
   "metadata": {},
   "source": [
    "#### **Probability Review, Modes of Convergence, and Optional Linear Algebra Exercises**"
   ]
  },
  {
   "cell_type": "markdown",
   "id": "25ad9020",
   "metadata": {},
   "source": [
    "**Discrete Random Variables**\n",
    "\n",
    "**Normalization constant for the Poisson Distribution**\n",
    "\n",
    "The probability mass function (pmf) of a **poisson distribution** with parameter $\\lambda$ is given by\n",
    "\n",
    "$$\n",
    "\\text{Poi}(\\lambda)=\\dfrac{c\\lambda ^k}{k!},\\ k=0,1,2,\\dots\n",
    "$$\n",
    "\n",
    "Compute the value of $c$.\n",
    "\n",
    "Recall that the probability mass function of the poisson distribution is given by\n",
    "$$\n",
    "f(k; \\lambda)=\\mathbb{P}(X=k)=\\dfrac{e^{-\\lambda} \\lambda ^k}{k!}\n",
    "$$\n",
    "and therefore\n",
    "$$\n",
    "c = e^{-\\lambda}.\n",
    "$$"
   ]
  }
 ],
 "metadata": {
  "language_info": {
   "name": "python"
  }
 },
 "nbformat": 4,
 "nbformat_minor": 5
}
