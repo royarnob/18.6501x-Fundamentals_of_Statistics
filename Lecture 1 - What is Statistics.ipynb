{
 "cells": [
  {
   "cell_type": "markdown",
   "metadata": {},
   "source": [
    "#### **Lecture 1: What is Statistics**"
   ]
  },
  {
   "cell_type": "markdown",
   "metadata": {},
   "source": [
    "***\n",
    "#### **Probability Review: Dice Rolling Game**\n",
    "\n",
    "Alice and Bob play a game where two fair-sided dice are rolled.\n",
    "\n",
    "Alice gets $\\$1$ if the sum of the numbers of the two dice is a prime number. (The number 1 is not prime.)\n",
    "\n",
    "Bob gets $\\$3$ if the numbers of the two dice are the same. (e.g. 1-1, 2-2, ...)\n",
    "\n",
    "Who makes more money on average? (i.e. in expectation)"
   ]
  },
  {
   "cell_type": "markdown",
   "metadata": {},
   "source": [
    "***My Answer Attempt.*** <br>\n",
    "\n",
    "The collection of prime numbers between $2$ and $12$ is: $\\{2, 3, 5, 7, 11\\}$ <br>\n",
    "\n",
    "The different ways to roll the prime numbers are:\n",
    "\n",
    "\\begin{aligned}\n",
    "2 &: \\{ (1,1) \\} \\\\\n",
    "3 &: \\{ (1,2),\\ (2,1) \\} \\\\\n",
    "5 &: \\{ (1,4),\\ (2,3),\\ (3,2),\\ (4,1) \\} \\\\\n",
    "7 &: \\{ (1,6),\\ (2,5),\\ (3,4),\\ (4,3),\\ (5,2),\\ (6,1) \\} \\\\\n",
    "11 &: \\{ (5,6),\\ (6,5) \\} \\\\\n",
    "\\end{aligned}\n",
    "\n",
    "We calculate Alice's expectation as:\n",
    "\n",
    "\\begin{aligned}\n",
    "\\mathbb{E}(Alice) &= \\mathbb{P}(\\text{sum of the numbers is a prime number})\\cdot \\$1 \\\\\n",
    "\\\\\n",
    "\\mathbb{E}(Alice) &= \\frac{\\# \\text{ rolls that are prime numbers}}{\\# \\text{ all possible dice rolls}}\\cdot \\$1 \\\\\n",
    "\\\\\n",
    "\\mathbb{E}(Alice) &= \\frac{1+2+4+6+2}{36}\\cdot \\$1 \\\\\n",
    "\\\\\n",
    "\\mathbb{E}(Alice) &= \\frac{15}{36} \\cdot \\$1 \\\\\n",
    "\\\\\n",
    "\\mathbb{E}(Alice) &= \\$0.42 \\\\\n",
    "\\end{aligned}\n",
    "\n",
    "We calculate Bob's expectation as:\n",
    "\\begin{aligned}\n",
    "\\mathbb{E}(Bob) &= \\mathbb{P}(\\text{numbers of the two dice are the same})\\cdot \\$3 \\\\\n",
    "\\\\\n",
    "\\mathbb{E}(Bob) &= \\frac{\\# \\text{ rolls that are the same}}{\\# \\text{ all possible dice rolls}}\\cdot \\$3 \\\\\n",
    "\\\\\n",
    "\\mathbb{E}(Bob) &= \\frac{6}{36}\\cdot \\$3 \\\\\n",
    "\\\\\n",
    "\\mathbb{E}(Bob) &= \\frac{18}{36}\\cdot \\$3 \\\\\n",
    "\\\\\n",
    "\\mathbb{E}(Bob) &= \\$0.50 \\\\\n",
    "\\end{aligned}"
   ]
  },
  {
   "cell_type": "code",
   "execution_count": 1,
   "metadata": {},
   "outputs": [],
   "source": [
    "#Define Bernoulli Expectation Function\n",
    "def Ber_E(Ber_p, X):\n",
    "    expected_value = Ber_p * X\n",
    "    return expected_value"
   ]
  },
  {
   "cell_type": "code",
   "execution_count": 6,
   "metadata": {},
   "outputs": [
    {
     "name": "stdout",
     "output_type": "stream",
     "text": [
      "Alice's expected payout is: $0.42\n",
      "Bob's expected payout is: $0.5\n"
     ]
    }
   ],
   "source": [
    "#Alice's Expectation\n",
    "prime_rolls = 1+2+4+6+2\n",
    "possible_rolls = 36\n",
    "\n",
    "Ber_p = prime_rolls / possible_rolls\n",
    "X = 1\n",
    "\n",
    "alice_expec = Ber_E(Ber_p, X); print(\"Alice's expected payout is: $\" + str(round(alice_expec, 2)))\n",
    "\n",
    "#Bob's Expectation\n",
    "same_rolls = 6\n",
    "\n",
    "Ber_p = same_rolls / possible_rolls\n",
    "X = 3\n",
    "\n",
    "bob_expec = Ber_E(Ber_p, X); print(\"Bob's expected payout is: $\" + str(round(bob_expec, 2)))"
   ]
  },
  {
   "cell_type": "markdown",
   "metadata": {},
   "source": [
    "***\n",
    "#### **Probability or Statistics 1**"
   ]
  },
  {
   "cell_type": "markdown",
   "metadata": {},
   "source": [
    "Determine whether each of the problems below is a probabilistic or statistical problem.\n",
    "1. Assume we have a population consisting of two subpopulations, $A$ and $B$.\n",
    "\n",
    "    A particular drug has a different chance of treatment success depending on the subpopulation, namely $70\\%$ for group $A$ and $50\\%$ for group $B$.\n",
    "\n",
    "    Assume that subgroup $A$ is $10\\%$ of the entire population and subgroup $B$ is $90\\%$. What is the chance of a successful treatment if we pick a random person from the entire population?\n",
    "\n",
    "***My Answer Attempt.*** <br>\n",
    "\n",
    "This is a Probabilistic Problem"
   ]
  },
  {
   "cell_type": "markdown",
   "metadata": {},
   "source": [
    "2. Now, consider the scenario where we do not know the true composition of the population, which may be different from the previous setup. Among 1000 randomly chosen patients, we observe that the treatment was successful in $700$ of them. What is a good estimate of the composition of the population?\n",
    "\n",
    "***My Answer Attempt.*** <br>\n",
    "\n",
    "This is a Statistical Problem"
   ]
  },
  {
   "cell_type": "markdown",
   "metadata": {},
   "source": [
    "***\n",
    "#### **Probability or Statistics 2**"
   ]
  },
  {
   "cell_type": "markdown",
   "metadata": {},
   "source": [
    "The mathematics majors at some university are distributed as follows:\n",
    "\n",
    "- $58\\%$ are in the \"general\" option,\n",
    "- $26\\%$ are in the \"computer science\" option,\n",
    "- $3\\%$ are in the \"applied\" option, and\n",
    "- $13\\%$ are in the \"pure\" option.\n",
    "\n",
    "Given a random sample of $10$ math majors, what is the expected number of them that are **not** in the \"computer science\" option?\n",
    "\n",
    "***My Answer Attempt.*** <br>\n",
    "\n",
    "This is a Probabilistic Problem"
   ]
  },
  {
   "cell_type": "markdown",
   "metadata": {},
   "source": [
    "A group of $10$ math majors is composed of $7$ \"general\" options and $3$ \"applied\" options. Is this sample representative of the math majors?\n",
    "\n",
    "***My Answer Attempt.*** <br>\n",
    "\n",
    "This is a Statistical Problem"
   ]
  },
  {
   "cell_type": "markdown",
   "metadata": {},
   "source": [
    "***\n",
    "#### **Review: Probability Question**"
   ]
  },
  {
   "cell_type": "markdown",
   "metadata": {},
   "source": [
    "Assume that we observe three draws, $X_1, X_2, X_3$ from a Bernoulli distribution with parameter $p=\\frac{1}{2}$. For example, imagine that in the model for the preferred head direction for kissing, either direction were actually equally likely and we observed three kissing couples.\n",
    "\n",
    "What is the probability of observing at least two ones, i.e., what is $\\mathbb{P} (\\sum^{3}_{i=3} X_i \\ge 2) $?"
   ]
  },
  {
   "cell_type": "markdown",
   "metadata": {},
   "source": [
    "**My Answer Attempt.**\n",
    "\n",
    "Let $X \\sim Ber (\\frac{1}{2})$\n",
    "\n",
    "\\begin{aligned}\n",
    "\\mathbb{P} (\\sum^{3}_{i=3} X_i \\ge 2)  &= \\mathbb{P} (X = 2) + \\mathbb{P} (X = 3) \\\\\n",
    "\\\\\n",
    "&= \\binom{3}{2} (\\frac{1}{2})^{2} (1-\\frac{1}{2})^{3-2} + \\binom{3}{3} (\\frac{1}{2})^{3} (1-\\frac{1}{2})^{3-3} \\\\\n",
    "\\\\\n",
    "&= \\frac{3!}{2!\\ (3-2)!} (\\frac{1}{4}) (1-\\frac{1}{2})^{1} + \\frac{3!}{3!\\ (3-3)!} (\\frac{1}{8}) (1-\\frac{1}{2})^{0} \\\\\n",
    "\\\\\n",
    "&= \\frac{3\\cdot 2\\cdot 1}{2\\cdot 1\\ (1)!} (\\frac{1}{4}) (\\frac{1}{2}) + \\frac{3\\cdot 2\\cdot 1}{3\\cdot 2\\cdot 1\\ (0)!} (\\frac{1}{8}) (1) \\\\\n",
    "\\\\\n",
    "&= \\frac{3\\cdot 2\\cdot 1}{ 2\\cdot 1 \\cdot 1} (\\frac{1}{4}) (\\frac{1}{2}) + \\frac{3\\cdot 2\\cdot 1}{3\\cdot 2\\cdot 1\\cdot 1} (\\frac{1}{8}) (1) \\\\\n",
    "\\\\\n",
    "&= \\frac{3\\cdot 2\\cdot 1}{2\\cdot 1 \\cdot 1} (\\frac{1}{8}) + \\frac{3\\cdot 2\\cdot 1}{3\\cdot 2\\cdot 1\\cdot 1} (\\frac{1}{8}) \\\\\n",
    "\\\\\n",
    "&= \\frac{3}{1} (\\frac{1}{8}) + \\frac{1}{1} (\\frac{1}{8}) \\\\\n",
    "\\\\\n",
    "&= \\frac{3}{8} + \\frac{1}{8} \\\\\n",
    "\\\\\n",
    "&= \\frac{1}{2} \\\\\n",
    "\n",
    "\\end{aligned}\n",
    "\n",
    "Using the binomial formula, the probability of observing at least two ones is $\\frac{1}{2}$."
   ]
  },
  {
   "cell_type": "markdown",
   "metadata": {},
   "source": [
    "**My Answer Attempt.**\n",
    "\n",
    "Let $X \\sim Ber (\\frac{1}{2})$\n",
    "\n",
    "\\begin{aligned}\n",
    "\\mathbb{P} (\\sum^{3}_{i=3} X_i \\ge 2)  &= \\mathbb{P} (X = 2) + \\mathbb{P} (X = 3) \\\\\n",
    "\\mathbb{P} (\\sum^{3}_{i=3} X_i \\ge 2)  &= \\binom{3}{2}  + \\binom{3}{3} \\frac{3!}{3!\\ (3-3)!}\\\\\n",
    "\\mathbb{P} (\\sum^{3}_{i=3} X_i \\ge 2)  &= \\frac{3!}{2!\\ (3-2)!} + \\frac{3!}{3!\\ (3-3)!}\\\\\n",
    "\n",
    "\n",
    "\\end{aligned}\n",
    "\n"
   ]
  },
  {
   "cell_type": "markdown",
   "metadata": {},
   "source": []
  }
 ],
 "metadata": {
  "kernelspec": {
   "display_name": "Python 3",
   "language": "python",
   "name": "python3"
  },
  "language_info": {
   "codemirror_mode": {
    "name": "ipython",
    "version": 3
   },
   "file_extension": ".py",
   "mimetype": "text/x-python",
   "name": "python",
   "nbconvert_exporter": "python",
   "pygments_lexer": "ipython3",
   "version": "3.12.1"
  }
 },
 "nbformat": 4,
 "nbformat_minor": 2
}
